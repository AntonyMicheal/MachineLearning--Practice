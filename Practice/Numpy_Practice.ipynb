{
 "cells": [
  {
   "cell_type": "markdown",
   "id": "63294c46",
   "metadata": {},
   "source": [
    "### Declaring numpy "
   ]
  },
  {
   "cell_type": "code",
   "execution_count": 1,
   "id": "928442eb",
   "metadata": {},
   "outputs": [],
   "source": [
    "import numpy as np"
   ]
  },
  {
   "cell_type": "code",
   "execution_count": 23,
   "id": "f9772b9f",
   "metadata": {},
   "outputs": [],
   "source": [
    "x = [[1,2,3], [4,5,6], [7,8,9]]"
   ]
  },
  {
   "cell_type": "code",
   "execution_count": 24,
   "id": "9d9060ec",
   "metadata": {},
   "outputs": [
    {
     "data": {
      "text/plain": [
       "[[1, 2, 3], [4, 5, 6], [7, 8, 9]]"
      ]
     },
     "execution_count": 24,
     "metadata": {},
     "output_type": "execute_result"
    }
   ],
   "source": [
    "x"
   ]
  },
  {
   "cell_type": "code",
   "execution_count": 26,
   "id": "ce6b7ec4",
   "metadata": {},
   "outputs": [
    {
     "data": {
      "text/plain": [
       "array([[1, 2, 3],\n",
       "       [4, 5, 6],\n",
       "       [7, 8, 9]])"
      ]
     },
     "execution_count": 26,
     "metadata": {},
     "output_type": "execute_result"
    }
   ],
   "source": [
    "y = np.array(x) # converts list into numpy array\n",
    "y"
   ]
  },
  {
   "cell_type": "markdown",
   "id": "52c7853d",
   "metadata": {},
   "source": [
    "### Methodes used in numpy"
   ]
  },
  {
   "cell_type": "code",
   "execution_count": 27,
   "id": "0398443c",
   "metadata": {},
   "outputs": [],
   "source": [
    "x = [1,2,3,4,5,6,7,8,9]"
   ]
  },
  {
   "cell_type": "code",
   "execution_count": 28,
   "id": "f09eacd4",
   "metadata": {},
   "outputs": [],
   "source": [
    "y = [[1,2,3], [4,5,6], [7,8,9]]"
   ]
  },
  {
   "cell_type": "code",
   "execution_count": 29,
   "id": "b1ce94f2",
   "metadata": {},
   "outputs": [
    {
     "data": {
      "text/plain": [
       "array([1, 2, 3, 4, 5, 6, 7, 8, 9])"
      ]
     },
     "execution_count": 29,
     "metadata": {},
     "output_type": "execute_result"
    }
   ],
   "source": [
    "np.array(x) # this does not change the variable x."
   ]
  },
  {
   "cell_type": "code",
   "execution_count": 30,
   "id": "6aaf4813",
   "metadata": {},
   "outputs": [
    {
     "data": {
      "text/plain": [
       "array([[1, 2, 3],\n",
       "       [4, 5, 6],\n",
       "       [7, 8, 9]])"
      ]
     },
     "execution_count": 30,
     "metadata": {},
     "output_type": "execute_result"
    }
   ],
   "source": [
    "np.array(y)# this does not change the variable y."
   ]
  },
  {
   "cell_type": "markdown",
   "id": "7d401356",
   "metadata": {},
   "source": [
    "#### To create a zero, one's and identity matrix"
   ]
  },
  {
   "cell_type": "markdown",
   "id": "5c005ac0",
   "metadata": {},
   "source": [
    "np.zeros(4)"
   ]
  },
  {
   "cell_type": "code",
   "execution_count": 32,
   "id": "1d0bb8a4",
   "metadata": {},
   "outputs": [
    {
     "data": {
      "text/plain": [
       "array([[0., 0., 0.],\n",
       "       [0., 0., 0.],\n",
       "       [0., 0., 0.]])"
      ]
     },
     "execution_count": 32,
     "metadata": {},
     "output_type": "execute_result"
    }
   ],
   "source": [
    "np.zeros((3,3)) # 2 Dimensions"
   ]
  },
  {
   "cell_type": "code",
   "execution_count": 33,
   "id": "453672d8",
   "metadata": {},
   "outputs": [
    {
     "data": {
      "text/plain": [
       "array([[[0., 0., 0.],\n",
       "        [0., 0., 0.],\n",
       "        [0., 0., 0.]],\n",
       "\n",
       "       [[0., 0., 0.],\n",
       "        [0., 0., 0.],\n",
       "        [0., 0., 0.]],\n",
       "\n",
       "       [[0., 0., 0.],\n",
       "        [0., 0., 0.],\n",
       "        [0., 0., 0.]]])"
      ]
     },
     "execution_count": 33,
     "metadata": {},
     "output_type": "execute_result"
    }
   ],
   "source": [
    "np.zeros((3,3,3)) # 3d"
   ]
  },
  {
   "cell_type": "markdown",
   "id": "65009ffd",
   "metadata": {},
   "source": [
    "#### You can also perform operations on them"
   ]
  },
  {
   "cell_type": "code",
   "execution_count": 35,
   "id": "7efad7f8",
   "metadata": {},
   "outputs": [
    {
     "data": {
      "text/plain": [
       "array([[5., 5., 5.],\n",
       "       [5., 5., 5.],\n",
       "       [5., 5., 5.]])"
      ]
     },
     "execution_count": 35,
     "metadata": {},
     "output_type": "execute_result"
    }
   ],
   "source": [
    "np.zeros((3,3))+5"
   ]
  },
  {
   "cell_type": "code",
   "execution_count": 36,
   "id": "2e8e1557",
   "metadata": {},
   "outputs": [
    {
     "data": {
      "text/plain": [
       "array([[-5., -5., -5.],\n",
       "       [-5., -5., -5.],\n",
       "       [-5., -5., -5.]])"
      ]
     },
     "execution_count": 36,
     "metadata": {},
     "output_type": "execute_result"
    }
   ],
   "source": [
    "np.zeros((3,3))-5"
   ]
  },
  {
   "cell_type": "code",
   "execution_count": 37,
   "id": "0f2d4d04",
   "metadata": {},
   "outputs": [
    {
     "data": {
      "text/plain": [
       "array([[7., 7., 7.],\n",
       "       [7., 7., 7.],\n",
       "       [7., 7., 7.]])"
      ]
     },
     "execution_count": 37,
     "metadata": {},
     "output_type": "execute_result"
    }
   ],
   "source": [
    "np.zeros((3,3)) + 7"
   ]
  },
  {
   "cell_type": "markdown",
   "id": "f6ad7261",
   "metadata": {},
   "source": [
    "One's"
   ]
  },
  {
   "cell_type": "code",
   "execution_count": 39,
   "id": "628fda5d",
   "metadata": {},
   "outputs": [
    {
     "data": {
      "text/plain": [
       "array([[1., 1., 1.],\n",
       "       [1., 1., 1.],\n",
       "       [1., 1., 1.]])"
      ]
     },
     "execution_count": 39,
     "metadata": {},
     "output_type": "execute_result"
    }
   ],
   "source": [
    "np.ones((3,3))"
   ]
  },
  {
   "cell_type": "code",
   "execution_count": 40,
   "id": "c12d9900",
   "metadata": {},
   "outputs": [
    {
     "data": {
      "text/plain": [
       "array([[6., 6., 6.],\n",
       "       [6., 6., 6.],\n",
       "       [6., 6., 6.]])"
      ]
     },
     "execution_count": 40,
     "metadata": {},
     "output_type": "execute_result"
    }
   ],
   "source": [
    "np.ones((3,3))+5"
   ]
  },
  {
   "cell_type": "code",
   "execution_count": 41,
   "id": "f483e714",
   "metadata": {},
   "outputs": [
    {
     "data": {
      "text/plain": [
       "array([[-4., -4., -4.],\n",
       "       [-4., -4., -4.],\n",
       "       [-4., -4., -4.]])"
      ]
     },
     "execution_count": 41,
     "metadata": {},
     "output_type": "execute_result"
    }
   ],
   "source": [
    "np.ones((3,3)) - 5"
   ]
  },
  {
   "cell_type": "code",
   "execution_count": 42,
   "id": "6b2950a6",
   "metadata": {},
   "outputs": [
    {
     "data": {
      "text/plain": [
       "array([[7., 7., 7.],\n",
       "       [7., 7., 7.],\n",
       "       [7., 7., 7.]])"
      ]
     },
     "execution_count": 42,
     "metadata": {},
     "output_type": "execute_result"
    }
   ],
   "source": [
    "np.ones((3,3)) *2 + 5"
   ]
  },
  {
   "cell_type": "code",
   "execution_count": 43,
   "id": "88c5948f",
   "metadata": {},
   "outputs": [
    {
     "data": {
      "text/plain": [
       "array([[2., 2., 2.],\n",
       "       [2., 2., 2.],\n",
       "       [2., 2., 2.]])"
      ]
     },
     "execution_count": 43,
     "metadata": {},
     "output_type": "execute_result"
    }
   ],
   "source": [
    "np.ones((3,3)) * 4 / 2"
   ]
  },
  {
   "cell_type": "code",
   "execution_count": 44,
   "id": "d5ce78f4",
   "metadata": {},
   "outputs": [
    {
     "data": {
      "text/plain": [
       "array([[1., 1., 1.],\n",
       "       [1., 1., 1.],\n",
       "       [1., 1., 1.]])"
      ]
     },
     "execution_count": 44,
     "metadata": {},
     "output_type": "execute_result"
    }
   ],
   "source": [
    "np.ones((3,3)) % 2"
   ]
  },
  {
   "cell_type": "code",
   "execution_count": 45,
   "id": "9069fa49",
   "metadata": {},
   "outputs": [
    {
     "data": {
      "text/plain": [
       "array([[0.5, 0.5, 0.5],\n",
       "       [0.5, 0.5, 0.5],\n",
       "       [0.5, 0.5, 0.5]])"
      ]
     },
     "execution_count": 45,
     "metadata": {},
     "output_type": "execute_result"
    }
   ],
   "source": [
    "np.ones((3,3)) / 2"
   ]
  },
  {
   "cell_type": "markdown",
   "id": "119114dc",
   "metadata": {},
   "source": [
    "#### Identity matrix"
   ]
  },
  {
   "cell_type": "code",
   "execution_count": 46,
   "id": "cb75ae9f",
   "metadata": {},
   "outputs": [
    {
     "data": {
      "text/plain": [
       "array([[1., 0., 0., 0.],\n",
       "       [0., 1., 0., 0.],\n",
       "       [0., 0., 1., 0.],\n",
       "       [0., 0., 0., 1.]])"
      ]
     },
     "execution_count": 46,
     "metadata": {},
     "output_type": "execute_result"
    }
   ],
   "source": [
    "np.eye(4) # Here only one parameter is required as identity matrix have all elements set to 1 and all other elements are zero's\n",
    "# the parameter 4 is the number of rows."
   ]
  },
  {
   "cell_type": "code",
   "execution_count": 47,
   "id": "9ea62dde",
   "metadata": {},
   "outputs": [
    {
     "data": {
      "text/plain": [
       "array([[10.,  9.,  9.,  9.],\n",
       "       [ 9., 10.,  9.,  9.],\n",
       "       [ 9.,  9., 10.,  9.],\n",
       "       [ 9.,  9.,  9., 10.]])"
      ]
     },
     "execution_count": 47,
     "metadata": {},
     "output_type": "execute_result"
    }
   ],
   "source": [
    "np.eye(4) + 9"
   ]
  },
  {
   "cell_type": "markdown",
   "id": "d3f85896",
   "metadata": {},
   "source": [
    "### Creating a list in a specified range"
   ]
  },
  {
   "cell_type": "code",
   "execution_count": 48,
   "id": "963b434e",
   "metadata": {},
   "outputs": [
    {
     "data": {
      "text/plain": [
       "array([0, 1, 2, 3, 4, 5, 6, 7, 8, 9])"
      ]
     },
     "execution_count": 48,
     "metadata": {},
     "output_type": "execute_result"
    }
   ],
   "source": [
    "np.arange(10)"
   ]
  },
  {
   "cell_type": "code",
   "execution_count": 49,
   "id": "7da12bfa",
   "metadata": {},
   "outputs": [
    {
     "data": {
      "text/plain": [
       "array([5, 6, 7, 8, 9])"
      ]
     },
     "execution_count": 49,
     "metadata": {},
     "output_type": "execute_result"
    }
   ],
   "source": [
    "np.arange(5, 10)"
   ]
  },
  {
   "cell_type": "code",
   "execution_count": 52,
   "id": "1266ea2b",
   "metadata": {},
   "outputs": [
    {
     "data": {
      "text/plain": [
       "array([1, 3, 5, 7, 9])"
      ]
     },
     "execution_count": 52,
     "metadata": {},
     "output_type": "execute_result"
    }
   ],
   "source": [
    "np.arange(1,10,2) # last 2 is the gap between elements"
   ]
  },
  {
   "cell_type": "markdown",
   "id": "4efa4ec4",
   "metadata": {},
   "source": [
    "### Reshaping a numpy array"
   ]
  },
  {
   "cell_type": "code",
   "execution_count": 53,
   "id": "75332b06",
   "metadata": {},
   "outputs": [],
   "source": [
    "x = np.arange(1,21)"
   ]
  },
  {
   "cell_type": "code",
   "execution_count": 54,
   "id": "dfd797dc",
   "metadata": {},
   "outputs": [
    {
     "data": {
      "text/plain": [
       "array([ 1,  2,  3,  4,  5,  6,  7,  8,  9, 10, 11, 12, 13, 14, 15, 16, 17,\n",
       "       18, 19, 20])"
      ]
     },
     "execution_count": 54,
     "metadata": {},
     "output_type": "execute_result"
    }
   ],
   "source": [
    "x"
   ]
  },
  {
   "cell_type": "code",
   "execution_count": 55,
   "id": "9ce3e9a3",
   "metadata": {},
   "outputs": [
    {
     "data": {
      "text/plain": [
       "array([[ 1,  2,  3,  4,  5],\n",
       "       [ 6,  7,  8,  9, 10],\n",
       "       [11, 12, 13, 14, 15],\n",
       "       [16, 17, 18, 19, 20]])"
      ]
     },
     "execution_count": 55,
     "metadata": {},
     "output_type": "execute_result"
    }
   ],
   "source": [
    "x.reshape(4,5)"
   ]
  },
  {
   "cell_type": "code",
   "execution_count": 56,
   "id": "14c12348",
   "metadata": {},
   "outputs": [],
   "source": [
    "# or\n",
    "x = np.arange(1,21).reshape(4,5)"
   ]
  },
  {
   "cell_type": "code",
   "execution_count": 57,
   "id": "94e896ef",
   "metadata": {},
   "outputs": [
    {
     "data": {
      "text/plain": [
       "array([[ 1,  2,  3,  4,  5],\n",
       "       [ 6,  7,  8,  9, 10],\n",
       "       [11, 12, 13, 14, 15],\n",
       "       [16, 17, 18, 19, 20]])"
      ]
     },
     "execution_count": 57,
     "metadata": {},
     "output_type": "execute_result"
    }
   ],
   "source": [
    "x"
   ]
  },
  {
   "cell_type": "markdown",
   "id": "0d8ec888",
   "metadata": {},
   "source": [
    "#### Finding Maximum, Minimum from np array"
   ]
  },
  {
   "cell_type": "code",
   "execution_count": 58,
   "id": "2f5416db",
   "metadata": {},
   "outputs": [
    {
     "data": {
      "text/plain": [
       "1"
      ]
     },
     "execution_count": 58,
     "metadata": {},
     "output_type": "execute_result"
    }
   ],
   "source": [
    "x.min()"
   ]
  },
  {
   "cell_type": "code",
   "execution_count": 59,
   "id": "27b6901e",
   "metadata": {},
   "outputs": [
    {
     "data": {
      "text/plain": [
       "20"
      ]
     },
     "execution_count": 59,
     "metadata": {},
     "output_type": "execute_result"
    }
   ],
   "source": [
    "x.max()"
   ]
  },
  {
   "cell_type": "code",
   "execution_count": 60,
   "id": "ee6345cf",
   "metadata": {},
   "outputs": [
    {
     "data": {
      "text/plain": [
       "10.5"
      ]
     },
     "execution_count": 60,
     "metadata": {},
     "output_type": "execute_result"
    }
   ],
   "source": [
    "x.mean()"
   ]
  },
  {
   "cell_type": "code",
   "execution_count": 61,
   "id": "8f4ef0bf",
   "metadata": {},
   "outputs": [
    {
     "data": {
      "text/plain": [
       "210"
      ]
     },
     "execution_count": 61,
     "metadata": {},
     "output_type": "execute_result"
    }
   ],
   "source": [
    "x.sum()"
   ]
  },
  {
   "cell_type": "code",
   "execution_count": 64,
   "id": "bec5bd5b",
   "metadata": {},
   "outputs": [
    {
     "data": {
      "text/plain": [
       "19"
      ]
     },
     "execution_count": 64,
     "metadata": {},
     "output_type": "execute_result"
    }
   ],
   "source": [
    "x.argmax() # finding the maximum element's index"
   ]
  },
  {
   "cell_type": "code",
   "execution_count": 65,
   "id": "6dcfd82c",
   "metadata": {},
   "outputs": [
    {
     "data": {
      "text/plain": [
       "0"
      ]
     },
     "execution_count": 65,
     "metadata": {},
     "output_type": "execute_result"
    }
   ],
   "source": [
    "x.argmin() # finding the minimum element's index"
   ]
  },
  {
   "cell_type": "code",
   "execution_count": 66,
   "id": "7f0df470",
   "metadata": {},
   "outputs": [
    {
     "data": {
      "text/plain": [
       "array([0.41661204, 0.68807056, 0.31365096, 0.26977421, 0.93775593])"
      ]
     },
     "execution_count": 66,
     "metadata": {},
     "output_type": "execute_result"
    }
   ],
   "source": [
    "np.random.random(5)"
   ]
  },
  {
   "cell_type": "code",
   "execution_count": 70,
   "id": "b5b90480",
   "metadata": {},
   "outputs": [
    {
     "data": {
      "text/plain": [
       "20"
      ]
     },
     "execution_count": 70,
     "metadata": {},
     "output_type": "execute_result"
    }
   ],
   "source": [
    "np.random.randint(1,100)"
   ]
  },
  {
   "cell_type": "code",
   "execution_count": 73,
   "id": "2fb2afa7",
   "metadata": {},
   "outputs": [
    {
     "data": {
      "text/plain": [
       "0"
      ]
     },
     "execution_count": 73,
     "metadata": {},
     "output_type": "execute_result"
    }
   ],
   "source": [
    "np.random.randint(0,1)"
   ]
  },
  {
   "cell_type": "markdown",
   "id": "03d51240",
   "metadata": {},
   "source": [
    "## Indexing and Slicing"
   ]
  },
  {
   "cell_type": "code",
   "execution_count": 74,
   "id": "fb07996c",
   "metadata": {},
   "outputs": [],
   "source": [
    "x = np.arange(1, 21)"
   ]
  },
  {
   "cell_type": "code",
   "execution_count": 75,
   "id": "6be2424e",
   "metadata": {},
   "outputs": [
    {
     "data": {
      "text/plain": [
       "array([ 1,  2,  3,  4,  5,  6,  7,  8,  9, 10, 11, 12, 13, 14, 15, 16, 17,\n",
       "       18, 19, 20])"
      ]
     },
     "execution_count": 75,
     "metadata": {},
     "output_type": "execute_result"
    }
   ],
   "source": [
    "x"
   ]
  },
  {
   "cell_type": "code",
   "execution_count": 76,
   "id": "366307a5",
   "metadata": {},
   "outputs": [
    {
     "data": {
      "text/plain": [
       "9"
      ]
     },
     "execution_count": 76,
     "metadata": {},
     "output_type": "execute_result"
    }
   ],
   "source": [
    "x[8]"
   ]
  },
  {
   "cell_type": "code",
   "execution_count": 83,
   "id": "a98ba2ce",
   "metadata": {},
   "outputs": [
    {
     "data": {
      "text/plain": [
       "array([1, 2, 3, 4, 5, 6, 7, 8])"
      ]
     },
     "execution_count": 83,
     "metadata": {},
     "output_type": "execute_result"
    }
   ],
   "source": [
    "x[:8]"
   ]
  },
  {
   "cell_type": "code",
   "execution_count": 84,
   "id": "7846ec5e",
   "metadata": {},
   "outputs": [
    {
     "data": {
      "text/plain": [
       "array([ 9, 10, 11, 12, 13, 14, 15, 16, 17, 18, 19, 20])"
      ]
     },
     "execution_count": 84,
     "metadata": {},
     "output_type": "execute_result"
    }
   ],
   "source": [
    "x[8:]"
   ]
  },
  {
   "cell_type": "code",
   "execution_count": 78,
   "id": "6bc5c4e7",
   "metadata": {},
   "outputs": [
    {
     "data": {
      "text/plain": [
       "20"
      ]
     },
     "execution_count": 78,
     "metadata": {},
     "output_type": "execute_result"
    }
   ],
   "source": [
    "x[-1]"
   ]
  },
  {
   "cell_type": "code",
   "execution_count": 81,
   "id": "6c76831f",
   "metadata": {},
   "outputs": [
    {
     "data": {
      "text/plain": [
       "array([16, 17, 18, 19])"
      ]
     },
     "execution_count": 81,
     "metadata": {},
     "output_type": "execute_result"
    }
   ],
   "source": [
    "x[-5:-1]"
   ]
  },
  {
   "cell_type": "code",
   "execution_count": 85,
   "id": "4d73cab2",
   "metadata": {},
   "outputs": [
    {
     "data": {
      "text/plain": [
       "array([3, 4, 5, 6])"
      ]
     },
     "execution_count": 85,
     "metadata": {},
     "output_type": "execute_result"
    }
   ],
   "source": [
    "x[2:6]"
   ]
  },
  {
   "cell_type": "code",
   "execution_count": 90,
   "id": "44bac892",
   "metadata": {},
   "outputs": [],
   "source": [
    "y = x[:]"
   ]
  },
  {
   "cell_type": "code",
   "execution_count": 95,
   "id": "2422f006",
   "metadata": {},
   "outputs": [],
   "source": [
    "y[5:10] = 40"
   ]
  },
  {
   "cell_type": "code",
   "execution_count": 96,
   "id": "83a6f7bc",
   "metadata": {},
   "outputs": [
    {
     "data": {
      "text/plain": [
       "array([ 1,  2,  3,  4,  5, 40, 40, 40, 40, 40, 11, 12, 13, 14, 15, 16, 17,\n",
       "       18, 19, 20])"
      ]
     },
     "execution_count": 96,
     "metadata": {},
     "output_type": "execute_result"
    }
   ],
   "source": [
    "y"
   ]
  },
  {
   "cell_type": "markdown",
   "id": "b702d0ce",
   "metadata": {},
   "source": [
    "### Slicing 2D matrix and Conditional Selection"
   ]
  },
  {
   "cell_type": "code",
   "execution_count": 99,
   "id": "26104ceb",
   "metadata": {},
   "outputs": [],
   "source": [
    "x = np.arange(25).reshape(5, 5)"
   ]
  },
  {
   "cell_type": "code",
   "execution_count": 100,
   "id": "d9d67395",
   "metadata": {},
   "outputs": [
    {
     "data": {
      "text/plain": [
       "array([[ 0,  1,  2,  3,  4],\n",
       "       [ 5,  6,  7,  8,  9],\n",
       "       [10, 11, 12, 13, 14],\n",
       "       [15, 16, 17, 18, 19],\n",
       "       [20, 21, 22, 23, 24]])"
      ]
     },
     "execution_count": 100,
     "metadata": {},
     "output_type": "execute_result"
    }
   ],
   "source": [
    "x"
   ]
  },
  {
   "cell_type": "code",
   "execution_count": 102,
   "id": "d346b276",
   "metadata": {},
   "outputs": [
    {
     "data": {
      "text/plain": [
       "4"
      ]
     },
     "execution_count": 102,
     "metadata": {},
     "output_type": "execute_result"
    }
   ],
   "source": [
    "x[0][4]"
   ]
  },
  {
   "cell_type": "code",
   "execution_count": 103,
   "id": "6415ad6c",
   "metadata": {},
   "outputs": [
    {
     "data": {
      "text/plain": [
       "9"
      ]
     },
     "execution_count": 103,
     "metadata": {},
     "output_type": "execute_result"
    }
   ],
   "source": [
    "x[1][4]"
   ]
  },
  {
   "cell_type": "code",
   "execution_count": 104,
   "id": "0ee40007",
   "metadata": {},
   "outputs": [
    {
     "data": {
      "text/plain": [
       "9"
      ]
     },
     "execution_count": 104,
     "metadata": {},
     "output_type": "execute_result"
    }
   ],
   "source": [
    "x[1,4] # First element iside square bracket is row index, second one is column index"
   ]
  },
  {
   "cell_type": "markdown",
   "id": "618f84a8",
   "metadata": {},
   "source": [
    "### Slicing in 2D array"
   ]
  },
  {
   "cell_type": "code",
   "execution_count": 105,
   "id": "7512b012",
   "metadata": {},
   "outputs": [
    {
     "data": {
      "text/plain": [
       "array([[ 0,  1,  2,  3,  4],\n",
       "       [ 5,  6,  7,  8,  9],\n",
       "       [10, 11, 12, 13, 14],\n",
       "       [15, 16, 17, 18, 19],\n",
       "       [20, 21, 22, 23, 24]])"
      ]
     },
     "execution_count": 105,
     "metadata": {},
     "output_type": "execute_result"
    }
   ],
   "source": [
    "x"
   ]
  },
  {
   "cell_type": "code",
   "execution_count": 110,
   "id": "5eee4446",
   "metadata": {},
   "outputs": [
    {
     "data": {
      "text/plain": [
       "array([[2, 3, 4],\n",
       "       [7, 8, 9]])"
      ]
     },
     "execution_count": 110,
     "metadata": {},
     "output_type": "execute_result"
    }
   ],
   "source": [
    "x[0:2,  2:] # 0, 1st row is selected in the first element, 2nd element to the last values in the column is selcected"
   ]
  },
  {
   "cell_type": "code",
   "execution_count": 111,
   "id": "87f64223",
   "metadata": {},
   "outputs": [
    {
     "data": {
      "text/plain": [
       "array([[12, 13, 14],\n",
       "       [17, 18, 19],\n",
       "       [22, 23, 24]])"
      ]
     },
     "execution_count": 111,
     "metadata": {},
     "output_type": "execute_result"
    }
   ],
   "source": [
    "x[2:, 2:]"
   ]
  },
  {
   "cell_type": "code",
   "execution_count": 113,
   "id": "5be56c81",
   "metadata": {},
   "outputs": [
    {
     "data": {
      "text/plain": [
       "array([[ 6,  7,  8],\n",
       "       [11, 12, 13],\n",
       "       [16, 17, 18]])"
      ]
     },
     "execution_count": 113,
     "metadata": {},
     "output_type": "execute_result"
    }
   ],
   "source": [
    "x[1:4,1:4 ]"
   ]
  },
  {
   "cell_type": "code",
   "execution_count": 114,
   "id": "faa48f24",
   "metadata": {},
   "outputs": [
    {
     "data": {
      "text/plain": [
       "array([[False, False, False, False, False],\n",
       "       [False, False, False, False, False],\n",
       "       [False, False, False,  True,  True],\n",
       "       [ True,  True,  True,  True,  True],\n",
       "       [ True,  True,  True,  True,  True]])"
      ]
     },
     "execution_count": 114,
     "metadata": {},
     "output_type": "execute_result"
    }
   ],
   "source": [
    "x > 12"
   ]
  },
  {
   "cell_type": "markdown",
   "id": "d4b2d0a3",
   "metadata": {},
   "source": [
    "### Conditional selection"
   ]
  },
  {
   "cell_type": "code",
   "execution_count": 117,
   "id": "bc2c114c",
   "metadata": {},
   "outputs": [
    {
     "data": {
      "text/plain": [
       "array([13, 14, 15, 16, 17, 18, 19, 20, 21, 22, 23, 24])"
      ]
     },
     "execution_count": 117,
     "metadata": {},
     "output_type": "execute_result"
    }
   ],
   "source": [
    "x[x>12]"
   ]
  },
  {
   "cell_type": "code",
   "execution_count": 118,
   "id": "08140518",
   "metadata": {},
   "outputs": [
    {
     "data": {
      "text/plain": [
       "array([ 0,  2,  4,  6,  8, 10, 12, 14, 16, 18, 20, 22, 24])"
      ]
     },
     "execution_count": 118,
     "metadata": {},
     "output_type": "execute_result"
    }
   ],
   "source": [
    "x [x%2 == 0]"
   ]
  },
  {
   "cell_type": "code",
   "execution_count": 120,
   "id": "8526ca7e",
   "metadata": {},
   "outputs": [
    {
     "data": {
      "text/plain": [
       "array([ 1,  3,  5,  7,  9, 11, 13, 15, 17, 19, 21, 23])"
      ]
     },
     "execution_count": 120,
     "metadata": {},
     "output_type": "execute_result"
    }
   ],
   "source": [
    "x[x%2 != 0]"
   ]
  },
  {
   "cell_type": "markdown",
   "id": "1ee2e4b6",
   "metadata": {},
   "source": [
    "### Operations on numpy"
   ]
  },
  {
   "cell_type": "markdown",
   "id": "63f5ba17",
   "metadata": {},
   "source": [
    "#### Adding 2 arrays"
   ]
  },
  {
   "cell_type": "code",
   "execution_count": 123,
   "id": "cf489f4c",
   "metadata": {},
   "outputs": [],
   "source": [
    "x = np.arange(10)\n",
    "y = np.arange(10,20)"
   ]
  },
  {
   "cell_type": "code",
   "execution_count": 125,
   "id": "e2c56153",
   "metadata": {},
   "outputs": [
    {
     "name": "stdout",
     "output_type": "stream",
     "text": [
      "[0 1 2 3 4 5 6 7 8 9]\n",
      "[10 11 12 13 14 15 16 17 18 19]\n",
      "[10 12 14 16 18 20 22 24 26 28]\n"
     ]
    }
   ],
   "source": [
    "print(x)\n",
    "print(y)\n",
    "print(x+y) # returns i+j for all elements in x, y"
   ]
  },
  {
   "cell_type": "markdown",
   "id": "3a05b651",
   "metadata": {},
   "source": [
    "#### Adding 2d Arrays: Dimensions must be same"
   ]
  },
  {
   "cell_type": "code",
   "execution_count": 136,
   "id": "2ea29de1",
   "metadata": {},
   "outputs": [],
   "source": [
    "x = np.arange(12).reshape(4,3)\n",
    "y = np.arange(10,22).reshape(4,3)"
   ]
  },
  {
   "cell_type": "code",
   "execution_count": 137,
   "id": "427ae7b6",
   "metadata": {},
   "outputs": [
    {
     "name": "stdout",
     "output_type": "stream",
     "text": [
      "[[ 0  1  2]\n",
      " [ 3  4  5]\n",
      " [ 6  7  8]\n",
      " [ 9 10 11]]\n"
     ]
    }
   ],
   "source": [
    "print(x)\n"
   ]
  },
  {
   "cell_type": "code",
   "execution_count": 138,
   "id": "26ae749b",
   "metadata": {},
   "outputs": [
    {
     "name": "stdout",
     "output_type": "stream",
     "text": [
      "[[10 11 12]\n",
      " [13 14 15]\n",
      " [16 17 18]\n",
      " [19 20 21]]\n"
     ]
    }
   ],
   "source": [
    "print(y)"
   ]
  },
  {
   "cell_type": "code",
   "execution_count": 139,
   "id": "19b8cbf5",
   "metadata": {},
   "outputs": [],
   "source": [
    "z = x+y"
   ]
  },
  {
   "cell_type": "code",
   "execution_count": 140,
   "id": "3b3ac404",
   "metadata": {},
   "outputs": [
    {
     "data": {
      "text/plain": [
       "array([[10, 12, 14],\n",
       "       [16, 18, 20],\n",
       "       [22, 24, 26],\n",
       "       [28, 30, 32]])"
      ]
     },
     "execution_count": 140,
     "metadata": {},
     "output_type": "execute_result"
    }
   ],
   "source": [
    "z"
   ]
  },
  {
   "cell_type": "markdown",
   "id": "b623353c",
   "metadata": {},
   "source": [
    "#### Subtracting"
   ]
  },
  {
   "cell_type": "code",
   "execution_count": 141,
   "id": "43c9ebec",
   "metadata": {},
   "outputs": [
    {
     "data": {
      "text/plain": [
       "array([[10, 10, 10],\n",
       "       [10, 10, 10],\n",
       "       [10, 10, 10],\n",
       "       [10, 10, 10]])"
      ]
     },
     "execution_count": 141,
     "metadata": {},
     "output_type": "execute_result"
    }
   ],
   "source": [
    "y - x"
   ]
  },
  {
   "cell_type": "markdown",
   "id": "ed18bab2",
   "metadata": {},
   "source": [
    "### Multiplying two arrays"
   ]
  },
  {
   "cell_type": "code",
   "execution_count": 146,
   "id": "71a41e81",
   "metadata": {},
   "outputs": [],
   "source": [
    "x = np.arange(12).reshape(4,3)\n",
    "y = np.arange(10,22).reshape(4,3)"
   ]
  },
  {
   "cell_type": "code",
   "execution_count": 147,
   "id": "ac3a5742",
   "metadata": {},
   "outputs": [
    {
     "data": {
      "text/plain": [
       "array([[  0,  11,  24],\n",
       "       [ 39,  56,  75],\n",
       "       [ 96, 119, 144],\n",
       "       [171, 200, 231]])"
      ]
     },
     "execution_count": 147,
     "metadata": {},
     "output_type": "execute_result"
    }
   ],
   "source": [
    "np.multiply(x, y)"
   ]
  },
  {
   "cell_type": "markdown",
   "id": "479ca5b0",
   "metadata": {},
   "source": [
    "np.divide(y,x) to devide"
   ]
  },
  {
   "cell_type": "markdown",
   "id": "ab1de62b",
   "metadata": {},
   "source": [
    "## END"
   ]
  },
  {
   "cell_type": "code",
   "execution_count": null,
   "id": "ccde4717",
   "metadata": {},
   "outputs": [],
   "source": []
  }
 ],
 "metadata": {
  "kernelspec": {
   "display_name": "Python 3 (ipykernel)",
   "language": "python",
   "name": "python3"
  },
  "language_info": {
   "codemirror_mode": {
    "name": "ipython",
    "version": 3
   },
   "file_extension": ".py",
   "mimetype": "text/x-python",
   "name": "python",
   "nbconvert_exporter": "python",
   "pygments_lexer": "ipython3",
   "version": "3.9.13"
  }
 },
 "nbformat": 4,
 "nbformat_minor": 5
}
